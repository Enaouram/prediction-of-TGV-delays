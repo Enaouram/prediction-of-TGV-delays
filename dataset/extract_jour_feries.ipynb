{
 "cells": [
  {
   "cell_type": "code",
   "execution_count": 6,
   "metadata": {},
   "outputs": [
    {
     "name": "stdout",
     "output_type": "stream",
     "text": [
      "     annee  mois  nombre_jour_ferie\n",
      "0     2003     1                  1\n",
      "1     2003     4                  1\n",
      "2     2003     5                  3\n",
      "3     2003     6                  1\n",
      "4     2003     7                  1\n",
      "..     ...   ...                ...\n",
      "188   2028     6                  1\n",
      "189   2028     7                  1\n",
      "190   2028     8                  1\n",
      "191   2028    11                  2\n",
      "192   2028    12                  1\n",
      "\n",
      "[193 rows x 3 columns]\n"
     ]
    }
   ],
   "source": [
    "import pandas as pd\n",
    "import os\n",
    "\n",
    "# Charger le dataset\n",
    "# Lecture de la base de données\n",
    "script_dir = os.path.abspath('')\n",
    "relative_path = 'jours_feries_metropole.csv'\n",
    "csv_path = os.path.join(script_dir, relative_path)\n",
    "data = pd.read_csv(csv_path, delimiter=\",\")\n",
    "\n",
    "# Convertir la colonne 'date' en format de date\n",
    "data['date'] = pd.to_datetime(data['date'])\n",
    "\n",
    "# Extraire l'année et le mois de la date\n",
    "data['annee'] = data['date'].dt.year\n",
    "data['mois'] = data['date'].dt.month\n",
    "\n",
    "# Grouper les données par année, mois et compter le nombre de jours fériés\n",
    "result = data.groupby(['annee', 'mois'])['date'].count().reset_index()\n",
    "result.rename(columns={'date': 'nombre_jour_ferie'}, inplace=True)\n",
    "\n",
    "# Afficher le résultat ou l'enregistrer dans un nouveau fichier CSV\n",
    "print(result)"
   ]
  },
  {
   "cell_type": "code",
   "execution_count": 7,
   "metadata": {},
   "outputs": [],
   "source": [
    "# Pour enregistrer le résultat dans un nouveau fichier CSV\n",
    "result.to_csv('nb_jours_ferie.csv', index=False)"
   ]
  },
  {
   "cell_type": "code",
   "execution_count": null,
   "metadata": {},
   "outputs": [],
   "source": []
  }
 ],
 "metadata": {
  "kernelspec": {
   "display_name": "Python 3",
   "language": "python",
   "name": "python3"
  },
  "language_info": {
   "codemirror_mode": {
    "name": "ipython",
    "version": 3
   },
   "file_extension": ".py",
   "mimetype": "text/x-python",
   "name": "python",
   "nbconvert_exporter": "python",
   "pygments_lexer": "ipython3",
   "version": "3.10.11"
  }
 },
 "nbformat": 4,
 "nbformat_minor": 2
}

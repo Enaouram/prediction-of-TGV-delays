{
 "cells": [
  {
   "cell_type": "code",
   "execution_count": 20,
   "metadata": {},
   "outputs": [],
   "source": [
    "import pandas as pd\n",
    "import os\n",
    "\n",
    "# Load the dataset\n",
    "script_dir = os.path.abspath('')\n",
    "relative_path = 'fr-en-calendrier-scolaire.csv'\n",
    "csv_path = os.path.join(script_dir, relative_path)\n",
    "data = pd.read_csv(csv_path, delimiter=\";\")"
   ]
  },
  {
   "cell_type": "code",
   "execution_count": 28,
   "metadata": {},
   "outputs": [
    {
     "name": "stdout",
     "output_type": "stream",
     "text": [
      "    annee  mois  jours_vacances  total_jours  ratio_vacances\n",
      "0    2017    10              33           31        1.064516\n",
      "1    2017    11              18           30        0.600000\n",
      "2    2017    12              27           31        0.870968\n",
      "3    2018     1              24           31        0.774194\n",
      "4    2018     2              34           28        1.214286\n",
      "..    ...   ...             ...          ...             ...\n",
      "84   2026     2              40           28        1.428571\n",
      "85   2026     3              11           31        0.354839\n",
      "86   2026     4              47           30        1.566667\n",
      "87   2026     5              10           31        0.322581\n",
      "88   2026     7               3           31        0.096774\n",
      "\n",
      "[89 rows x 5 columns]\n"
     ]
    }
   ],
   "source": [
    "# Il y a des vacances où Zone A est répétée plusieurs fois pour la même année et la même description.\n",
    "data['start_year'] = pd.to_datetime(data['start_date'], utc=True).dt.year\n",
    "filtered_data = data.drop_duplicates(subset=['description', 'zones', 'start_year'])\n",
    "filtered_data = filtered_data.drop(columns=['start_year'])\n",
    "\n",
    "# Filtrer les lignes où 'population' est 'Élèves' ou vide\n",
    "filtered_data = filtered_data[filtered_data['population'].isin(['Élèves', '-'])]\n",
    "filtered_data = filtered_data[filtered_data['start_date'].notnull()]\n",
    "filtered_data = filtered_data[filtered_data['end_date'].notnull()]\n",
    "filtered_data = filtered_data[filtered_data['zones'].isin(['Zone A', 'Zone B', 'Zone C'])]\n",
    "filtered_data.to_csv('final_vacation_ratio_filtered.csv', index=False)\n",
    "\n",
    "# Créer un dictionnaire pour les jours de vacances par année et mois\n",
    "vacation_days = {}\n",
    "\n",
    "# Parcourir les données filtrées\n",
    "for _, row in filtered_data.iterrows():\n",
    "    start_date = pd.to_datetime(row['start_date'])\n",
    "    end_date = pd.to_datetime(row['end_date'])\n",
    "    current_date = start_date\n",
    "    while current_date <= end_date:\n",
    "        year = current_date.year\n",
    "        month = current_date.month\n",
    "        if year not in vacation_days:\n",
    "            vacation_days[year] = {}\n",
    "        if month not in vacation_days[year]:\n",
    "            vacation_days[year][month] = 0\n",
    "        vacation_days[year][month] += 1\n",
    "        current_date += pd.DateOffset(days=1)\n",
    "\n",
    "# Créer un DataFrame à partir du dictionnaire de jours de vacances\n",
    "result_df = pd.DataFrame([(year, month, count) for year, months in vacation_days.items()\n",
    "                          for month, count in months.items()],\n",
    "                         columns=['annee', 'mois', 'jours_vacances'])\n",
    "\n",
    "# Calculer le nombre total de jours dans chaque mois\n",
    "result_df['total_jours'] = result_df.apply(lambda row: pd.Timestamp(year=row['annee'], month=row['mois'], day=1).days_in_month, axis=1)\n",
    "\n",
    "# Calculer le ratio de jours de vacances par rapport au nombre total de jours\n",
    "result_df['ratio_vacances'] = result_df['jours_vacances'] / result_df['total_jours']\n",
    "\n",
    "# Afficher le résultat\n",
    "print(result_df)"
   ]
  },
  {
   "cell_type": "code",
   "execution_count": 29,
   "metadata": {},
   "outputs": [],
   "source": [
    "# Pour enregistrer le résultat dans un nouveau fichier CSV\n",
    "result_df.to_csv('vacation_month_ratio.csv', index=False)"
   ]
  },
  {
   "cell_type": "code",
   "execution_count": null,
   "metadata": {},
   "outputs": [],
   "source": []
  }
 ],
 "metadata": {
  "kernelspec": {
   "display_name": "Python 3",
   "language": "python",
   "name": "python3"
  },
  "language_info": {
   "codemirror_mode": {
    "name": "ipython",
    "version": 3
   },
   "file_extension": ".py",
   "mimetype": "text/x-python",
   "name": "python",
   "nbconvert_exporter": "python",
   "pygments_lexer": "ipython3",
   "version": "3.10.11"
  }
 },
 "nbformat": 4,
 "nbformat_minor": 2
}

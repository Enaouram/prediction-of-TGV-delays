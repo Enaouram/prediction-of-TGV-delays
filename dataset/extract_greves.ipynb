{
 "cells": [
  {
   "cell_type": "code",
   "execution_count": 2,
   "metadata": {},
   "outputs": [],
   "source": [
    "import pandas as pd\n",
    "import os\n",
    "\n",
    "# Charger le dataset\n",
    "# Lecture de la base de données\n",
    "script_dir = os.path.abspath('')\n",
    "relative_path = 'mouvements-sociaux-depuis-2002.csv'\n",
    "csv_path = os.path.join(script_dir, relative_path)\n",
    "data = pd.read_csv(csv_path, delimiter=\";\")"
   ]
  },
  {
   "cell_type": "code",
   "execution_count": 8,
   "metadata": {},
   "outputs": [],
   "source": [
    "from calendar import monthrange\n",
    "\n",
    "data['Date'] = pd.to_datetime(data['Date'], format='%Y-%m-%d')\n",
    "data['annee'] = data['Date'].dt.year\n",
    "data['mois'] = data['Date'].dt.month\n",
    "\n",
    "# Supprimez les lignes avec des dates inferieures à 2018\n",
    "data = data[data['annee'] >= 2018]\n",
    "\n",
    "# Groupez les données par année, mois et motif, puis calculez la somme des taux de grévistes et le nombre de jours\n",
    "grouped_data = data.groupby(['annee', 'mois', 'Motif exprimé']).agg({'Taux de grévistes au sein de la population concernée par le préavis': 'sum', 'Date': 'count'}).reset_index()\n",
    "\n",
    "# Renommez les colonnes\n",
    "grouped_data.rename(columns={'Taux de grévistes au sein de la population concernée par le préavis': 'Somme des taux de grévistes', 'Date': 'Nombre de grèves'}, inplace=True)\n",
    "\n",
    "# Calculez le ratio du taux de grévistes par rapport au nombre de jours dans le mois\n",
    "def calculate_ratio(row):\n",
    "    year = row['annee']\n",
    "    month = row['mois']\n",
    "    days_in_month = monthrange(year, month)[1]  # Obtient le nombre de jours dans le mois\n",
    "    return row['Somme des taux de grévistes'] / days_in_month\n",
    "\n",
    "# Appliquez la fonction pour calculer le ratio\n",
    "grouped_data['Ratio taux gréviste'] = grouped_data.apply(calculate_ratio, axis=1)\n",
    "\n",
    "# Sélectionnez les colonnes nécessaires\n",
    "new_dataset = grouped_data[['annee', 'mois', 'Nombre de grèves', 'Motif exprimé', 'Ratio taux gréviste']]\n",
    "\n",
    "# Sauvegardez le nouveau jeu de données dans un fichier CSV\n",
    "new_dataset.to_csv(\"greves.csv\", index=False)"
   ]
  },
  {
   "cell_type": "code",
   "execution_count": null,
   "metadata": {},
   "outputs": [],
   "source": []
  }
 ],
 "metadata": {
  "kernelspec": {
   "display_name": "Python 3",
   "language": "python",
   "name": "python3"
  },
  "language_info": {
   "codemirror_mode": {
    "name": "ipython",
    "version": 3
   },
   "file_extension": ".py",
   "mimetype": "text/x-python",
   "name": "python",
   "nbconvert_exporter": "python",
   "pygments_lexer": "ipython3",
   "version": "3.10.11"
  }
 },
 "nbformat": 4,
 "nbformat_minor": 2
}

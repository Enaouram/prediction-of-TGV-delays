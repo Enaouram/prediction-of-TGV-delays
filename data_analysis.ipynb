{
 "cells": [
  {
   "cell_type": "code",
   "execution_count": 3,
   "metadata": {},
   "outputs": [],
   "source": [
    "import pandas as pd\n",
    "import matplotlib.pyplot as plt\n",
    "import seaborn as sns\n",
    "import numpy as np\n",
    "import os"
   ]
  },
  {
   "cell_type": "code",
   "execution_count": 7,
   "metadata": {},
   "outputs": [
    {
     "name": "stdout",
     "output_type": "stream",
     "text": [
      "      date   service         gare_depart         gare_arrivee  duree_moyenne  \\\n",
      "0  2018-01  National    BORDEAUX ST JEAN   PARIS MONTPARNASSE            141   \n",
      "1  2018-01  National   LA ROCHELLE VILLE   PARIS MONTPARNASSE            165   \n",
      "2  2018-01  National  PARIS MONTPARNASSE              QUIMPER            220   \n",
      "3  2018-01  National  PARIS MONTPARNASSE              ST MALO            156   \n",
      "4  2018-01  National  PARIS MONTPARNASSE  ST PIERRE DES CORPS             61   \n",
      "\n",
      "   nb_train_prevu  nb_annulation  commentaire_annulation  \\\n",
      "0             870              5                     NaN   \n",
      "1             222              0                     NaN   \n",
      "2             248              1                     NaN   \n",
      "3             102              0                     NaN   \n",
      "4             391              2                     NaN   \n",
      "\n",
      "   nb_train_depart_retard  retard_moyen_depart  ...  nb_train_retard_sup_15  \\\n",
      "0                     289            11.247809  ...                     110   \n",
      "1                       8             2.875000  ...                      22   \n",
      "2                      37             9.501351  ...                      26   \n",
      "3                      12            19.912500  ...                       8   \n",
      "4                      61             7.796995  ...                      17   \n",
      "\n",
      "   retard_moyen_trains_retard_sup15  nb_train_retard_sup_30  \\\n",
      "0                          6.511118                      44   \n",
      "1                          5.696096                       5   \n",
      "2                          7.548387                      17   \n",
      "3                          6.724757                       6   \n",
      "4                          3.346487                       6   \n",
      "\n",
      "   nb_train_retard_sup_60  prct_cause_externe prct_cause_infra  \\\n",
      "0                       8           36.134454        31.092437   \n",
      "1                       0           15.384615        30.769231   \n",
      "2                       7           26.923077        38.461538   \n",
      "3                       4           23.076923        46.153846   \n",
      "4                       0           21.212121        42.424242   \n",
      "\n",
      "   prct_cause_gestion_trafic  prct_cause_materiel_roulant  \\\n",
      "0                  10.924370                    15.966387   \n",
      "1                  38.461538                    11.538462   \n",
      "2                  15.384615                    19.230769   \n",
      "3                   7.692308                    15.384615   \n",
      "4                   9.090909                    21.212121   \n",
      "\n",
      "   prct_cause_gestion_gare  prct_cause_prise_en_charge_voyageurs  \n",
      "0                 5.042017                              0.840336  \n",
      "1                 3.846154                              0.000000  \n",
      "2                 0.000000                              0.000000  \n",
      "3                 7.692308                              0.000000  \n",
      "4                 6.060606                              0.000000  \n",
      "\n",
      "[5 rows x 26 columns]\n"
     ]
    }
   ],
   "source": [
    "# Lecture de la base de données\n",
    "\n",
    "# Construire le chemin d'accès au dataset\n",
    "script_dir = os.path.abspath('')\n",
    "relative_path = 'dataset/regularite-mensuelle-tgv-aqst.csv'\n",
    "csv_path = os.path.join(script_dir, relative_path)\n",
    "\n",
    "# Chargez le fichier CSV\n",
    "data = pd.read_csv(csv_path, delimiter=\";\")\n",
    "print(data.head())"
   ]
  },
  {
   "cell_type": "code",
   "execution_count": 8,
   "metadata": {},
   "outputs": [
    {
     "name": "stdout",
     "output_type": "stream",
     "text": [
      "date                                     object\n",
      "service                                  object\n",
      "gare_depart                              object\n",
      "gare_arrivee                             object\n",
      "duree_moyenne                             int64\n",
      "nb_train_prevu                            int64\n",
      "nb_annulation                             int64\n",
      "commentaire_annulation                  float64\n",
      "nb_train_depart_retard                    int64\n",
      "retard_moyen_depart                     float64\n",
      "retard_moyen_tous_trains_depart         float64\n",
      "commentaire_retards_depart              float64\n",
      "nb_train_retard_arrivee                   int64\n",
      "retard_moyen_arrivee                    float64\n",
      "retard_moyen_tous_trains_arrivee        float64\n",
      "commentaires_retard_arrivee              object\n",
      "nb_train_retard_sup_15                    int64\n",
      "retard_moyen_trains_retard_sup15        float64\n",
      "nb_train_retard_sup_30                    int64\n",
      "nb_train_retard_sup_60                    int64\n",
      "prct_cause_externe                      float64\n",
      "prct_cause_infra                        float64\n",
      "prct_cause_gestion_trafic               float64\n",
      "prct_cause_materiel_roulant             float64\n",
      "prct_cause_gestion_gare                 float64\n",
      "prct_cause_prise_en_charge_voyageurs    float64\n",
      "dtype: object\n"
     ]
    }
   ],
   "source": [
    "#Info sur les types des données du dataset (float, int, object)\n",
    "print(data.dtypes)"
   ]
  },
  {
   "cell_type": "code",
   "execution_count": 9,
   "metadata": {},
   "outputs": [
    {
     "name": "stdout",
     "output_type": "stream",
     "text": [
      "<class 'pandas.core.frame.DataFrame'>\n",
      "RangeIndex: 8154 entries, 0 to 8153\n",
      "Data columns (total 26 columns):\n",
      " #   Column                                Non-Null Count  Dtype  \n",
      "---  ------                                --------------  -----  \n",
      " 0   date                                  8154 non-null   object \n",
      " 1   service                               8154 non-null   object \n",
      " 2   gare_depart                           8154 non-null   object \n",
      " 3   gare_arrivee                          8154 non-null   object \n",
      " 4   duree_moyenne                         8154 non-null   int64  \n",
      " 5   nb_train_prevu                        8154 non-null   int64  \n",
      " 6   nb_annulation                         8154 non-null   int64  \n",
      " 7   commentaire_annulation                0 non-null      float64\n",
      " 8   nb_train_depart_retard                8154 non-null   int64  \n",
      " 9   retard_moyen_depart                   8154 non-null   float64\n",
      " 10  retard_moyen_tous_trains_depart       8154 non-null   float64\n",
      " 11  commentaire_retards_depart            0 non-null      float64\n",
      " 12  nb_train_retard_arrivee               8154 non-null   int64  \n",
      " 13  retard_moyen_arrivee                  8154 non-null   float64\n",
      " 14  retard_moyen_tous_trains_arrivee      8154 non-null   float64\n",
      " 15  commentaires_retard_arrivee           698 non-null    object \n",
      " 16  nb_train_retard_sup_15                8154 non-null   int64  \n",
      " 17  retard_moyen_trains_retard_sup15      8154 non-null   float64\n",
      " 18  nb_train_retard_sup_30                8154 non-null   int64  \n",
      " 19  nb_train_retard_sup_60                8154 non-null   int64  \n",
      " 20  prct_cause_externe                    8154 non-null   float64\n",
      " 21  prct_cause_infra                      8154 non-null   float64\n",
      " 22  prct_cause_gestion_trafic             8154 non-null   float64\n",
      " 23  prct_cause_materiel_roulant           8154 non-null   float64\n",
      " 24  prct_cause_gestion_gare               8154 non-null   float64\n",
      " 25  prct_cause_prise_en_charge_voyageurs  8154 non-null   float64\n",
      "dtypes: float64(13), int64(8), object(5)\n",
      "memory usage: 1.6+ MB\n",
      "None\n"
     ]
    }
   ],
   "source": [
    "#Info sur chaque colonne du dataset\n",
    "print(data.info())"
   ]
  },
  {
   "cell_type": "code",
   "execution_count": 10,
   "metadata": {},
   "outputs": [],
   "source": [
    "#On convertit la colonne 'date' du DataFrame en un format de date spécifique (année-mois)\n",
    "#en utilisant la fonction pd.to_datetime, et on crée une nouvelle colonne \"année\" pour faciliter le split\n",
    "data['date'] = pd.to_datetime(data['date'], format='%Y-%m')\n",
    "data['annee'] = data['date'].dt.year"
   ]
  },
  {
   "cell_type": "code",
   "execution_count": 11,
   "metadata": {},
   "outputs": [
    {
     "name": "stdout",
     "output_type": "stream",
     "text": [
      "date                                       0\n",
      "service                                    0\n",
      "gare_depart                                0\n",
      "gare_arrivee                               0\n",
      "duree_moyenne                              0\n",
      "nb_train_prevu                             0\n",
      "nb_annulation                              0\n",
      "commentaire_annulation                  8154\n",
      "nb_train_depart_retard                     0\n",
      "retard_moyen_depart                        0\n",
      "retard_moyen_tous_trains_depart            0\n",
      "commentaire_retards_depart              8154\n",
      "nb_train_retard_arrivee                    0\n",
      "retard_moyen_arrivee                       0\n",
      "retard_moyen_tous_trains_arrivee           0\n",
      "commentaires_retard_arrivee             7456\n",
      "nb_train_retard_sup_15                     0\n",
      "retard_moyen_trains_retard_sup15           0\n",
      "nb_train_retard_sup_30                     0\n",
      "nb_train_retard_sup_60                     0\n",
      "prct_cause_externe                         0\n",
      "prct_cause_infra                           0\n",
      "prct_cause_gestion_trafic                  0\n",
      "prct_cause_materiel_roulant                0\n",
      "prct_cause_gestion_gare                    0\n",
      "prct_cause_prise_en_charge_voyageurs       0\n",
      "annee                                      0\n",
      "dtype: int64\n"
     ]
    }
   ],
   "source": [
    "#Infos sur le nombre de valeurs nulles (manquantes) dans le dataset\n",
    "print(data.isnull().sum())"
   ]
  },
  {
   "cell_type": "code",
   "execution_count": null,
   "metadata": {},
   "outputs": [],
   "source": []
  }
 ],
 "metadata": {
  "kernelspec": {
   "display_name": "Python 3",
   "language": "python",
   "name": "python3"
  },
  "language_info": {
   "codemirror_mode": {
    "name": "ipython",
    "version": 3
   },
   "file_extension": ".py",
   "mimetype": "text/x-python",
   "name": "python",
   "nbconvert_exporter": "python",
   "pygments_lexer": "ipython3",
   "version": "3.10.11"
  },
  "orig_nbformat": 4
 },
 "nbformat": 4,
 "nbformat_minor": 2
}

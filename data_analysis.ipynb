{
 "cells": [
  {
   "cell_type": "code",
   "execution_count": 3,
   "metadata": {},
   "outputs": [],
   "source": [
    "import pandas as pd\n",
    "import matplotlib.pyplot as plt\n",
    "import seaborn as sns\n",
    "import numpy as np\n",
    "import os"
   ]
  },
  {
   "cell_type": "code",
   "execution_count": 6,
   "metadata": {},
   "outputs": [
    {
     "name": "stdout",
     "output_type": "stream",
     "text": [
      "      date   service         gare_depart         gare_arrivee  duree_moyenne  \\\n",
      "0  2018-01  National    BORDEAUX ST JEAN   PARIS MONTPARNASSE            141   \n",
      "1  2018-01  National   LA ROCHELLE VILLE   PARIS MONTPARNASSE            165   \n",
      "2  2018-01  National  PARIS MONTPARNASSE              QUIMPER            220   \n",
      "3  2018-01  National  PARIS MONTPARNASSE              ST MALO            156   \n",
      "4  2018-01  National  PARIS MONTPARNASSE  ST PIERRE DES CORPS             61   \n",
      "\n",
      "   nb_train_prevu  nb_annulation  commentaire_annulation  \\\n",
      "0             870              5                     NaN   \n",
      "1             222              0                     NaN   \n",
      "2             248              1                     NaN   \n",
      "3             102              0                     NaN   \n",
      "4             391              2                     NaN   \n",
      "\n",
      "   nb_train_depart_retard  retard_moyen_depart  ...  nb_train_retard_sup_15  \\\n",
      "0                     289            11.247809  ...                     110   \n",
      "1                       8             2.875000  ...                      22   \n",
      "2                      37             9.501351  ...                      26   \n",
      "3                      12            19.912500  ...                       8   \n",
      "4                      61             7.796995  ...                      17   \n",
      "\n",
      "   retard_moyen_trains_retard_sup15  nb_train_retard_sup_30  \\\n",
      "0                          6.511118                      44   \n",
      "1                          5.696096                       5   \n",
      "2                          7.548387                      17   \n",
      "3                          6.724757                       6   \n",
      "4                          3.346487                       6   \n",
      "\n",
      "   nb_train_retard_sup_60  prct_cause_externe prct_cause_infra  \\\n",
      "0                       8           36.134454        31.092437   \n",
      "1                       0           15.384615        30.769231   \n",
      "2                       7           26.923077        38.461538   \n",
      "3                       4           23.076923        46.153846   \n",
      "4                       0           21.212121        42.424242   \n",
      "\n",
      "   prct_cause_gestion_trafic  prct_cause_materiel_roulant  \\\n",
      "0                  10.924370                    15.966387   \n",
      "1                  38.461538                    11.538462   \n",
      "2                  15.384615                    19.230769   \n",
      "3                   7.692308                    15.384615   \n",
      "4                   9.090909                    21.212121   \n",
      "\n",
      "   prct_cause_gestion_gare  prct_cause_prise_en_charge_voyageurs  \n",
      "0                 5.042017                              0.840336  \n",
      "1                 3.846154                              0.000000  \n",
      "2                 0.000000                              0.000000  \n",
      "3                 7.692308                              0.000000  \n",
      "4                 6.060606                              0.000000  \n",
      "\n",
      "[5 rows x 26 columns]\n"
     ]
    }
   ],
   "source": [
    "# Lecture de la base de données\n",
    "\n",
    "# Construire le chemin d'accès au dataset\n",
    "script_dir = os.path.abspath('')\n",
    "relative_path = 'dataset/regularite-mensuelle-tgv-aqst.csv'\n",
    "csv_path = os.path.join(script_dir, relative_path)\n",
    "\n",
    "# Chargez le fichier CSV\n",
    "data = pd.read_csv(csv_path, delimiter=\";\")\n",
    "print(data.head())"
   ]
  },
  {
   "cell_type": "code",
   "execution_count": null,
   "metadata": {},
   "outputs": [],
   "source": [
    "#Info sur les types des données du dataset (float, int, object)\n",
    "print(data.dtypes)"
   ]
  },
  {
   "cell_type": "code",
   "execution_count": null,
   "metadata": {},
   "outputs": [],
   "source": [
    "#Info sur chaque colonne du dataset\n",
    "print(data.info())"
   ]
  },
  {
   "cell_type": "code",
   "execution_count": null,
   "metadata": {},
   "outputs": [],
   "source": [
    "#On convertit la colonne 'date' du DataFrame en un format de date spécifique (année-mois)\n",
    "#en utilisant la fonction pd.to_datetime, et on crée une nouvelle colonne \"année\" pour faciliter le split\n",
    "data['date'] = pd.to_datetime(data['date'], format='%Y-%m')\n",
    "data['annee'] = data['date'].dt.year"
   ]
  },
  {
   "cell_type": "code",
   "execution_count": null,
   "metadata": {},
   "outputs": [],
   "source": [
    "#Infos sur le nombre de valeurs nulles (manquantes) dans le dataset\n",
    "print(data.isnull().sum())"
   ]
  }
 ],
 "metadata": {
  "kernelspec": {
   "display_name": "Python 3",
   "language": "python",
   "name": "python3"
  },
  "language_info": {
   "codemirror_mode": {
    "name": "ipython",
    "version": 3
   },
   "file_extension": ".py",
   "mimetype": "text/x-python",
   "name": "python",
   "nbconvert_exporter": "python",
   "pygments_lexer": "ipython3",
   "version": "3.10.11"
  },
  "orig_nbformat": 4
 },
 "nbformat": 4,
 "nbformat_minor": 2
}

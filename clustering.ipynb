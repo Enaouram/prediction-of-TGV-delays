{
 "cells": [
  {
   "cell_type": "code",
   "execution_count": 1,
   "metadata": {},
   "outputs": [
    {
     "name": "stderr",
     "output_type": "stream",
     "text": [
      "C:\\Users\\Maamar\\AppData\\Local\\Packages\\PythonSoftwareFoundation.Python.3.9_qbz5n2kfra8p0\\LocalCache\\local-packages\\Python39\\site-packages\\numpy\\_distributor_init.py:30: UserWarning: loaded more than 1 DLL from .libs:\n",
      "C:\\Users\\Maamar\\AppData\\Local\\Packages\\PythonSoftwareFoundation.Python.3.9_qbz5n2kfra8p0\\LocalCache\\local-packages\\Python39\\site-packages\\numpy\\.libs\\libopenblas64__v0.3.21-gcc_10_3_0.dll\n",
      "C:\\Users\\Maamar\\AppData\\Local\\Packages\\PythonSoftwareFoundation.Python.3.9_qbz5n2kfra8p0\\LocalCache\\local-packages\\Python39\\site-packages\\numpy\\.libs\\libopenblas64__v0.3.23-gcc_10_3_0.dll\n",
      "  warnings.warn(\"loaded more than 1 DLL from .libs:\"\n"
     ]
    }
   ],
   "source": [
    "import pandas as pd\n",
    "import matplotlib.pyplot as plt\n",
    "import seaborn as sns\n",
    "import numpy as np\n",
    "import os"
   ]
  },
  {
   "cell_type": "code",
   "execution_count": 2,
   "metadata": {},
   "outputs": [
    {
     "name": "stdout",
     "output_type": "stream",
     "text": [
      "      date   service         gare_depart         gare_arrivee  duree_moyenne  \\\n",
      "0  2018-01  National    BORDEAUX ST JEAN   PARIS MONTPARNASSE            141   \n",
      "1  2018-01  National   LA ROCHELLE VILLE   PARIS MONTPARNASSE            165   \n",
      "2  2018-01  National  PARIS MONTPARNASSE              QUIMPER            220   \n",
      "3  2018-01  National  PARIS MONTPARNASSE              ST MALO            156   \n",
      "4  2018-01  National  PARIS MONTPARNASSE  ST PIERRE DES CORPS             61   \n",
      "\n",
      "   nb_train_prevu  nb_annulation  commentaire_annulation  \\\n",
      "0             870              5                     NaN   \n",
      "1             222              0                     NaN   \n",
      "2             248              1                     NaN   \n",
      "3             102              0                     NaN   \n",
      "4             391              2                     NaN   \n",
      "\n",
      "   nb_train_depart_retard  retard_moyen_depart  ...  nb_train_retard_sup_15  \\\n",
      "0                     289            11.247809  ...                     110   \n",
      "1                       8             2.875000  ...                      22   \n",
      "2                      37             9.501351  ...                      26   \n",
      "3                      12            19.912500  ...                       8   \n",
      "4                      61             7.796995  ...                      17   \n",
      "\n",
      "   retard_moyen_trains_retard_sup15  nb_train_retard_sup_30  \\\n",
      "0                          6.511118                      44   \n",
      "1                          5.696096                       5   \n",
      "2                          7.548387                      17   \n",
      "3                          6.724757                       6   \n",
      "4                          3.346487                       6   \n",
      "\n",
      "   nb_train_retard_sup_60  prct_cause_externe prct_cause_infra  \\\n",
      "0                       8           36.134454        31.092437   \n",
      "1                       0           15.384615        30.769231   \n",
      "2                       7           26.923077        38.461538   \n",
      "3                       4           23.076923        46.153846   \n",
      "4                       0           21.212121        42.424242   \n",
      "\n",
      "   prct_cause_gestion_trafic  prct_cause_materiel_roulant  \\\n",
      "0                  10.924370                    15.966387   \n",
      "1                  38.461538                    11.538462   \n",
      "2                  15.384615                    19.230769   \n",
      "3                   7.692308                    15.384615   \n",
      "4                   9.090909                    21.212121   \n",
      "\n",
      "   prct_cause_gestion_gare  prct_cause_prise_en_charge_voyageurs  \n",
      "0                 5.042017                              0.840336  \n",
      "1                 3.846154                              0.000000  \n",
      "2                 0.000000                              0.000000  \n",
      "3                 7.692308                              0.000000  \n",
      "4                 6.060606                              0.000000  \n",
      "\n",
      "[5 rows x 26 columns]\n"
     ]
    }
   ],
   "source": [
    "# Lecture de la base de données\n",
    "\n",
    "# Construire le chemin d'accès au dataset\n",
    "script_dir = os.path.abspath('')\n",
    "relative_path = 'dataset/regularite-mensuelle-tgv-aqst.csv'\n",
    "csv_path = os.path.join(script_dir, relative_path)\n",
    "\n",
    "# Chargez le fichier CSV\n",
    "data = pd.read_csv(csv_path, delimiter=\";\")\n",
    "print(data.head())"
   ]
  },
  {
   "cell_type": "markdown",
   "metadata": {},
   "source": [
    "<h3><strong>Modèles de clustering :</strong></h3><p>"
   ]
  },
  {
   "cell_type": "code",
   "execution_count": 3,
   "metadata": {},
   "outputs": [
    {
     "name": "stdout",
     "output_type": "stream",
     "text": [
      "[[ 3.37156153e-03 -3.51187212e-01  1.13476264e-01  1.05693628e-01\n",
      "  -1.27175551e+00  3.99849031e+00  2.88282136e+00  7.66030237e-01\n",
      "  -9.03340323e-02 -9.03340323e-02 -9.03340323e-02 -9.03340323e-02\n",
      "  -9.03340323e-02 -9.03340323e-02 -9.03340323e-02 -9.03340323e-02\n",
      "   7.51149354e+00 -9.03340323e-02 -9.03340323e-02 -9.03340323e-02\n",
      "  -9.03340323e-02 -9.03340323e-02 -9.03340323e-02 -9.03340323e-02\n",
      "  -9.03340323e-02 -9.03340323e-02 -9.03340323e-02 -9.03340323e-02\n",
      "  -9.03340323e-02 -9.03340323e-02 -9.03340323e-02 -1.57755754e-01\n",
      "  -2.25929377e-01 -9.03340323e-02 -7.44942251e-02 -1.28276067e-01\n",
      "  -2.19253231e-01 -9.03340323e-02 -1.28276067e-01 -9.03340323e-02\n",
      "  -9.03340323e-02 -1.34080305e-01 -9.03340323e-02 -9.03340323e-02\n",
      "  -2.25929377e-01 -5.03485163e-01 -3.85712720e-01 -1.82920956e-01\n",
      "  -6.65927158e-02 -9.03340323e-02 -9.03340323e-02 -9.03340323e-02\n",
      "  -9.03340323e-02 -1.34080305e-01 -9.03340323e-02 -9.03340323e-02\n",
      "  -9.03340323e-02 -1.28276067e-01 -9.03340323e-02 -9.03340323e-02\n",
      "  -9.03340323e-02 -9.76383252e-02 -9.03340323e-02 -9.03340323e-02\n",
      "  -9.03340323e-02 -8.96415300e-02 -9.03340323e-02 -9.03340323e-02\n",
      "  -9.03340323e-02 -9.03340323e-02 -9.03340323e-02 -9.03340323e-02\n",
      "  -9.03340323e-02 -9.03340323e-02 -1.33129316e-01 -9.03340323e-02\n",
      "  -9.03340323e-02 -9.03340323e-02 -9.03340323e-02 -9.03340323e-02\n",
      "  -9.03340323e-02 -9.03340323e-02 -9.03340323e-02 -9.03340323e-02\n",
      "  -9.03340323e-02 -9.03340323e-02 -9.03340323e-02 -9.03340323e-02\n",
      "  -9.03340323e-02 -1.57755754e-01 -2.25929377e-01 -9.03340323e-02\n",
      "  -7.44942251e-02 -1.28276067e-01 -2.02764348e-01 -9.03340323e-02\n",
      "  -1.28276067e-01 -9.03340323e-02 -9.03340323e-02 -1.34080305e-01\n",
      "  -9.03340323e-02 -9.03340323e-02 -2.25929377e-01 -5.03485163e-01\n",
      "   2.59260311e+00 -1.82920956e-01 -6.65927158e-02 -9.03340323e-02\n",
      "  -9.03340323e-02 -9.03340323e-02 -9.03340323e-02 -1.34080305e-01\n",
      "  -9.03340323e-02 -9.03340323e-02 -9.03340323e-02 -1.28276067e-01\n",
      "  -9.03340323e-02 -9.03340323e-02 -9.03340323e-02 -1.26786302e-01\n",
      "  -9.03340323e-02 -9.03340323e-02 -9.03340323e-02 -8.96415300e-02\n",
      "   3.76426625e-01]\n",
      " [-6.67740877e-01 -7.91439874e-01 -5.48739588e-01  3.44788914e-03\n",
      "  -1.31211372e+00 -1.13765110e-01 -5.91747194e-01 -8.66379172e-01\n",
      "  -9.03340323e-02 -9.03340323e-02 -9.03340323e-02 -9.03340323e-02\n",
      "  -9.03340323e-02 -9.03340323e-02 -9.03340323e-02 -9.03340323e-02\n",
      "  -1.33129316e-01 -9.03340323e-02 -9.03340323e-02 -9.03340323e-02\n",
      "  -9.03340323e-02 -9.03340323e-02 -9.03340323e-02 -9.03340323e-02\n",
      "  -9.03340323e-02 -9.03340323e-02  1.10700250e+01 -9.03340323e-02\n",
      "  -9.03340323e-02 -9.03340323e-02 -9.03340323e-02 -1.57755754e-01\n",
      "  -2.25929377e-01 -9.03340323e-02 -7.44942251e-02 -1.28276067e-01\n",
      "  -2.19253231e-01 -9.03340323e-02 -1.28276067e-01 -9.03340323e-02\n",
      "  -9.03340323e-02 -1.34080305e-01 -9.03340323e-02 -9.03340323e-02\n",
      "  -2.25929377e-01 -5.03485163e-01 -3.85712720e-01 -1.82920956e-01\n",
      "  -6.65927158e-02 -9.03340323e-02 -9.03340323e-02 -9.03340323e-02\n",
      "  -9.03340323e-02 -1.34080305e-01 -9.03340323e-02 -9.03340323e-02\n",
      "  -9.03340323e-02 -1.28276067e-01 -9.03340323e-02 -9.03340323e-02\n",
      "  -9.03340323e-02 -9.76383252e-02 -9.03340323e-02 -9.03340323e-02\n",
      "  -9.03340323e-02 -8.96415300e-02 -9.03340323e-02 -9.03340323e-02\n",
      "  -9.03340323e-02 -9.03340323e-02 -9.03340323e-02 -9.03340323e-02\n",
      "  -9.03340323e-02 -9.03340323e-02 -1.33129316e-01 -9.03340323e-02\n",
      "  -9.03340323e-02 -9.03340323e-02 -9.03340323e-02 -9.03340323e-02\n",
      "  -9.03340323e-02 -9.03340323e-02 -9.03340323e-02 -9.03340323e-02\n",
      "  -9.03340323e-02 -9.03340323e-02 -9.03340323e-02 -9.03340323e-02\n",
      "  -9.03340323e-02 -1.57755754e-01 -2.25929377e-01 -9.03340323e-02\n",
      "  -7.44942251e-02 -1.28276067e-01 -2.02764348e-01 -9.03340323e-02\n",
      "  -1.28276067e-01 -9.03340323e-02 -9.03340323e-02 -1.34080305e-01\n",
      "  -9.03340323e-02 -9.03340323e-02 -2.25929377e-01 -5.03485163e-01\n",
      "   2.59260311e+00 -1.82920956e-01 -6.65927158e-02 -9.03340323e-02\n",
      "  -9.03340323e-02 -9.03340323e-02 -9.03340323e-02 -1.34080305e-01\n",
      "  -9.03340323e-02 -9.03340323e-02 -9.03340323e-02 -1.28276067e-01\n",
      "  -9.03340323e-02 -9.03340323e-02 -9.03340323e-02 -1.26786302e-01\n",
      "  -9.03340323e-02 -9.03340323e-02 -9.03340323e-02 -8.96415300e-02\n",
      "   3.76426625e-01]\n",
      " [-1.36613622e-01  1.38464863e+00 -3.81558433e-01  2.39654582e-01\n",
      "  -1.22039203e+00  7.31555908e-02  4.77350821e-01  5.61979061e-01\n",
      "  -9.03340323e-02 -9.03340323e-02 -9.03340323e-02 -9.03340323e-02\n",
      "  -9.03340323e-02 -9.03340323e-02 -9.03340323e-02 -9.03340323e-02\n",
      "  -1.33129316e-01 -9.03340323e-02 -9.03340323e-02 -9.03340323e-02\n",
      "  -9.03340323e-02 -9.03340323e-02 -9.03340323e-02 -9.03340323e-02\n",
      "  -9.03340323e-02 -9.03340323e-02 -9.03340323e-02 -9.03340323e-02\n",
      "  -9.03340323e-02 -9.03340323e-02 -9.03340323e-02 -1.57755754e-01\n",
      "  -2.25929377e-01 -9.03340323e-02 -7.44942251e-02 -1.28276067e-01\n",
      "  -2.19253231e-01 -9.03340323e-02 -1.28276067e-01 -9.03340323e-02\n",
      "  -9.03340323e-02 -1.34080305e-01 -9.03340323e-02 -9.03340323e-02\n",
      "  -2.25929377e-01 -5.03485163e-01  2.59260311e+00 -1.82920956e-01\n",
      "  -6.65927158e-02 -9.03340323e-02 -9.03340323e-02 -9.03340323e-02\n",
      "  -9.03340323e-02 -1.34080305e-01 -9.03340323e-02 -9.03340323e-02\n",
      "  -9.03340323e-02 -1.28276067e-01 -9.03340323e-02 -9.03340323e-02\n",
      "  -9.03340323e-02 -9.76383252e-02 -9.03340323e-02 -9.03340323e-02\n",
      "  -9.03340323e-02 -8.96415300e-02 -9.03340323e-02 -9.03340323e-02\n",
      "  -9.03340323e-02 -9.03340323e-02 -9.03340323e-02 -9.03340323e-02\n",
      "  -9.03340323e-02 -9.03340323e-02 -1.33129316e-01 -9.03340323e-02\n",
      "  -9.03340323e-02 -9.03340323e-02 -9.03340323e-02 -9.03340323e-02\n",
      "  -9.03340323e-02 -9.03340323e-02 -9.03340323e-02 -9.03340323e-02\n",
      "  -9.03340323e-02 -9.03340323e-02 -9.03340323e-02 -9.03340323e-02\n",
      "  -9.03340323e-02 -1.57755754e-01 -2.25929377e-01 -9.03340323e-02\n",
      "  -7.44942251e-02 -1.28276067e-01 -2.02764348e-01 -9.03340323e-02\n",
      "  -1.28276067e-01 -9.03340323e-02 -9.03340323e-02 -1.34080305e-01\n",
      "  -9.03340323e-02 -9.03340323e-02 -2.25929377e-01 -5.03485163e-01\n",
      "  -3.85712720e-01 -1.82920956e-01 -6.65927158e-02 -9.03340323e-02\n",
      "  -9.03340323e-02  1.10700250e+01 -9.03340323e-02 -1.34080305e-01\n",
      "  -9.03340323e-02 -9.03340323e-02 -9.03340323e-02 -1.28276067e-01\n",
      "  -9.03340323e-02 -9.03340323e-02 -9.03340323e-02 -1.26786302e-01\n",
      "  -9.03340323e-02 -9.03340323e-02 -9.03340323e-02 -8.96415300e-02\n",
      "   3.76426625e-01]\n",
      " [ 6.97879526e-01  9.34427891e-01 -2.04344729e-01  1.40765972e-01\n",
      "  -1.26117650e+00 -7.67987564e-01 -5.02655692e-01 -5.01744675e-02\n",
      "  -9.03340323e-02 -9.03340323e-02 -9.03340323e-02 -9.03340323e-02\n",
      "  -9.03340323e-02 -9.03340323e-02 -9.03340323e-02 -9.03340323e-02\n",
      "  -1.33129316e-01 -9.03340323e-02 -9.03340323e-02 -9.03340323e-02\n",
      "  -9.03340323e-02 -9.03340323e-02 -9.03340323e-02 -9.03340323e-02\n",
      "  -9.03340323e-02 -9.03340323e-02 -9.03340323e-02 -9.03340323e-02\n",
      "  -9.03340323e-02 -9.03340323e-02 -9.03340323e-02 -1.57755754e-01\n",
      "  -2.25929377e-01 -9.03340323e-02 -7.44942251e-02 -1.28276067e-01\n",
      "  -2.19253231e-01 -9.03340323e-02 -1.28276067e-01 -9.03340323e-02\n",
      "  -9.03340323e-02 -1.34080305e-01 -9.03340323e-02 -9.03340323e-02\n",
      "  -2.25929377e-01 -5.03485163e-01  2.59260311e+00 -1.82920956e-01\n",
      "  -6.65927158e-02 -9.03340323e-02 -9.03340323e-02 -9.03340323e-02\n",
      "  -9.03340323e-02 -1.34080305e-01 -9.03340323e-02 -9.03340323e-02\n",
      "  -9.03340323e-02 -1.28276067e-01 -9.03340323e-02 -9.03340323e-02\n",
      "  -9.03340323e-02 -9.76383252e-02 -9.03340323e-02 -9.03340323e-02\n",
      "  -9.03340323e-02 -8.96415300e-02 -9.03340323e-02 -9.03340323e-02\n",
      "  -9.03340323e-02 -9.03340323e-02 -9.03340323e-02 -9.03340323e-02\n",
      "  -9.03340323e-02 -9.03340323e-02 -1.33129316e-01 -9.03340323e-02\n",
      "  -9.03340323e-02 -9.03340323e-02 -9.03340323e-02 -9.03340323e-02\n",
      "  -9.03340323e-02 -9.03340323e-02 -9.03340323e-02 -9.03340323e-02\n",
      "  -9.03340323e-02 -9.03340323e-02 -9.03340323e-02 -9.03340323e-02\n",
      "  -9.03340323e-02 -1.57755754e-01 -2.25929377e-01 -9.03340323e-02\n",
      "  -7.44942251e-02 -1.28276067e-01 -2.02764348e-01 -9.03340323e-02\n",
      "  -1.28276067e-01 -9.03340323e-02 -9.03340323e-02 -1.34080305e-01\n",
      "  -9.03340323e-02 -9.03340323e-02 -2.25929377e-01 -5.03485163e-01\n",
      "  -3.85712720e-01 -1.82920956e-01 -6.65927158e-02 -9.03340323e-02\n",
      "  -9.03340323e-02 -9.03340323e-02 -9.03340323e-02 -1.34080305e-01\n",
      "  -9.03340323e-02  1.10700250e+01 -9.03340323e-02 -1.28276067e-01\n",
      "  -9.03340323e-02 -9.03340323e-02 -9.03340323e-02 -1.26786302e-01\n",
      "  -9.03340323e-02 -9.03340323e-02 -9.03340323e-02 -8.96415300e-02\n",
      "   3.76426625e-01]\n",
      " [-2.73224301e-01 -1.37219581e+00 -4.03112973e-01 -2.91314353e-01\n",
      "  -1.42846161e+00 -3.47415987e-01 -5.02655692e-01 -8.66379172e-01\n",
      "  -9.03340323e-02 -9.03340323e-02 -9.03340323e-02 -9.03340323e-02\n",
      "  -9.03340323e-02 -9.03340323e-02 -9.03340323e-02 -9.03340323e-02\n",
      "  -1.33129316e-01 -9.03340323e-02 -9.03340323e-02 -9.03340323e-02\n",
      "  -9.03340323e-02 -9.03340323e-02 -9.03340323e-02 -9.03340323e-02\n",
      "  -9.03340323e-02 -9.03340323e-02 -9.03340323e-02 -9.03340323e-02\n",
      "  -9.03340323e-02 -9.03340323e-02 -9.03340323e-02 -1.57755754e-01\n",
      "  -2.25929377e-01 -9.03340323e-02 -7.44942251e-02 -1.28276067e-01\n",
      "  -2.19253231e-01 -9.03340323e-02 -1.28276067e-01 -9.03340323e-02\n",
      "  -9.03340323e-02 -1.34080305e-01 -9.03340323e-02 -9.03340323e-02\n",
      "  -2.25929377e-01 -5.03485163e-01  2.59260311e+00 -1.82920956e-01\n",
      "  -6.65927158e-02 -9.03340323e-02 -9.03340323e-02 -9.03340323e-02\n",
      "  -9.03340323e-02 -1.34080305e-01 -9.03340323e-02 -9.03340323e-02\n",
      "  -9.03340323e-02 -1.28276067e-01 -9.03340323e-02 -9.03340323e-02\n",
      "  -9.03340323e-02 -9.76383252e-02 -9.03340323e-02 -9.03340323e-02\n",
      "  -9.03340323e-02 -8.96415300e-02 -9.03340323e-02 -9.03340323e-02\n",
      "  -9.03340323e-02 -9.03340323e-02 -9.03340323e-02 -9.03340323e-02\n",
      "  -9.03340323e-02 -9.03340323e-02 -1.33129316e-01 -9.03340323e-02\n",
      "  -9.03340323e-02 -9.03340323e-02 -9.03340323e-02 -9.03340323e-02\n",
      "  -9.03340323e-02 -9.03340323e-02 -9.03340323e-02 -9.03340323e-02\n",
      "  -9.03340323e-02 -9.03340323e-02 -9.03340323e-02 -9.03340323e-02\n",
      "  -9.03340323e-02 -1.57755754e-01 -2.25929377e-01 -9.03340323e-02\n",
      "  -7.44942251e-02 -1.28276067e-01 -2.02764348e-01 -9.03340323e-02\n",
      "  -1.28276067e-01 -9.03340323e-02 -9.03340323e-02 -1.34080305e-01\n",
      "  -9.03340323e-02 -9.03340323e-02 -2.25929377e-01 -5.03485163e-01\n",
      "  -3.85712720e-01 -1.82920956e-01 -6.65927158e-02 -9.03340323e-02\n",
      "  -9.03340323e-02 -9.03340323e-02 -9.03340323e-02 -1.34080305e-01\n",
      "  -9.03340323e-02 -9.03340323e-02  1.10700250e+01 -1.28276067e-01\n",
      "  -9.03340323e-02 -9.03340323e-02 -9.03340323e-02 -1.26786302e-01\n",
      "  -9.03340323e-02 -9.03340323e-02 -9.03340323e-02 -8.96415300e-02\n",
      "   3.76426625e-01]]\n"
     ]
    }
   ],
   "source": [
    "import pandas as pd\n",
    "from sklearn.preprocessing import StandardScaler\n",
    "\n",
    "# Sélectionner les colonnes numériques pertinentes\n",
    "features_numeric = [\n",
    "    \"retard_moyen_depart\", \"retard_moyen_arrivee\", \n",
    "    \"retard_moyen_tous_trains_depart\", \"retard_moyen_tous_trains_arrivee\", \n",
    "    \"retard_moyen_trains_retard_sup15\", \"nb_train_retard_sup_15\",\n",
    "    \"nb_train_retard_sup_30\", \"nb_train_retard_sup_60\"\n",
    "]\n",
    "\n",
    "# Convertir les colonnes catégorielles en variables indicatrices\n",
    "data_dummies = pd.get_dummies(data[['gare_depart', 'gare_arrivee', 'service']], drop_first=True)\n",
    "\n",
    "# Combiner les variables indicatrices avec les caractéristiques numériques\n",
    "X_combined = pd.concat([data[features_numeric], data_dummies], axis=1)\n",
    "\n",
    "# Normaliser les données combinées\n",
    "scaler = StandardScaler()\n",
    "X_combined_scaled = scaler.fit_transform(X_combined)\n",
    "\n",
    "print(X_combined_scaled[:5])  # Afficher les premières lignes des données normalisées combinées\n"
   ]
  },
  {
   "cell_type": "code",
   "execution_count": 4,
   "metadata": {},
   "outputs": [
    {
     "name": "stderr",
     "output_type": "stream",
     "text": [
      "C:\\Users\\Maamar\\AppData\\Local\\Packages\\PythonSoftwareFoundation.Python.3.9_qbz5n2kfra8p0\\LocalCache\\local-packages\\Python39\\site-packages\\sklearn\\cluster\\_kmeans.py:1416: FutureWarning: The default value of `n_init` will change from 10 to 'auto' in 1.4. Set the value of `n_init` explicitly to suppress the warning\n",
      "  super()._check_params_vs_input(X, default_n_init=10)\n",
      "C:\\Users\\Maamar\\AppData\\Local\\Packages\\PythonSoftwareFoundation.Python.3.9_qbz5n2kfra8p0\\LocalCache\\local-packages\\Python39\\site-packages\\sklearn\\cluster\\_kmeans.py:1416: FutureWarning: The default value of `n_init` will change from 10 to 'auto' in 1.4. Set the value of `n_init` explicitly to suppress the warning\n",
      "  super()._check_params_vs_input(X, default_n_init=10)\n",
      "C:\\Users\\Maamar\\AppData\\Local\\Packages\\PythonSoftwareFoundation.Python.3.9_qbz5n2kfra8p0\\LocalCache\\local-packages\\Python39\\site-packages\\sklearn\\cluster\\_kmeans.py:1416: FutureWarning: The default value of `n_init` will change from 10 to 'auto' in 1.4. Set the value of `n_init` explicitly to suppress the warning\n",
      "  super()._check_params_vs_input(X, default_n_init=10)\n",
      "C:\\Users\\Maamar\\AppData\\Local\\Packages\\PythonSoftwareFoundation.Python.3.9_qbz5n2kfra8p0\\LocalCache\\local-packages\\Python39\\site-packages\\sklearn\\cluster\\_kmeans.py:1416: FutureWarning: The default value of `n_init` will change from 10 to 'auto' in 1.4. Set the value of `n_init` explicitly to suppress the warning\n",
      "  super()._check_params_vs_input(X, default_n_init=10)\n",
      "C:\\Users\\Maamar\\AppData\\Local\\Packages\\PythonSoftwareFoundation.Python.3.9_qbz5n2kfra8p0\\LocalCache\\local-packages\\Python39\\site-packages\\sklearn\\cluster\\_kmeans.py:1416: FutureWarning: The default value of `n_init` will change from 10 to 'auto' in 1.4. Set the value of `n_init` explicitly to suppress the warning\n",
      "  super()._check_params_vs_input(X, default_n_init=10)\n",
      "C:\\Users\\Maamar\\AppData\\Local\\Packages\\PythonSoftwareFoundation.Python.3.9_qbz5n2kfra8p0\\LocalCache\\local-packages\\Python39\\site-packages\\sklearn\\cluster\\_kmeans.py:1416: FutureWarning: The default value of `n_init` will change from 10 to 'auto' in 1.4. Set the value of `n_init` explicitly to suppress the warning\n",
      "  super()._check_params_vs_input(X, default_n_init=10)\n",
      "C:\\Users\\Maamar\\AppData\\Local\\Packages\\PythonSoftwareFoundation.Python.3.9_qbz5n2kfra8p0\\LocalCache\\local-packages\\Python39\\site-packages\\sklearn\\cluster\\_kmeans.py:1416: FutureWarning: The default value of `n_init` will change from 10 to 'auto' in 1.4. Set the value of `n_init` explicitly to suppress the warning\n",
      "  super()._check_params_vs_input(X, default_n_init=10)\n",
      "C:\\Users\\Maamar\\AppData\\Local\\Packages\\PythonSoftwareFoundation.Python.3.9_qbz5n2kfra8p0\\LocalCache\\local-packages\\Python39\\site-packages\\sklearn\\cluster\\_kmeans.py:1416: FutureWarning: The default value of `n_init` will change from 10 to 'auto' in 1.4. Set the value of `n_init` explicitly to suppress the warning\n",
      "  super()._check_params_vs_input(X, default_n_init=10)\n",
      "C:\\Users\\Maamar\\AppData\\Local\\Packages\\PythonSoftwareFoundation.Python.3.9_qbz5n2kfra8p0\\LocalCache\\local-packages\\Python39\\site-packages\\sklearn\\cluster\\_kmeans.py:1416: FutureWarning: The default value of `n_init` will change from 10 to 'auto' in 1.4. Set the value of `n_init` explicitly to suppress the warning\n",
      "  super()._check_params_vs_input(X, default_n_init=10)\n",
      "C:\\Users\\Maamar\\AppData\\Local\\Packages\\PythonSoftwareFoundation.Python.3.9_qbz5n2kfra8p0\\LocalCache\\local-packages\\Python39\\site-packages\\sklearn\\cluster\\_kmeans.py:1416: FutureWarning: The default value of `n_init` will change from 10 to 'auto' in 1.4. Set the value of `n_init` explicitly to suppress the warning\n",
      "  super()._check_params_vs_input(X, default_n_init=10)\n",
      "C:\\Users\\Maamar\\AppData\\Local\\Packages\\PythonSoftwareFoundation.Python.3.9_qbz5n2kfra8p0\\LocalCache\\local-packages\\Python39\\site-packages\\sklearn\\cluster\\_kmeans.py:1416: FutureWarning: The default value of `n_init` will change from 10 to 'auto' in 1.4. Set the value of `n_init` explicitly to suppress the warning\n",
      "  super()._check_params_vs_input(X, default_n_init=10)\n",
      "C:\\Users\\Maamar\\AppData\\Local\\Packages\\PythonSoftwareFoundation.Python.3.9_qbz5n2kfra8p0\\LocalCache\\local-packages\\Python39\\site-packages\\sklearn\\cluster\\_kmeans.py:1416: FutureWarning: The default value of `n_init` will change from 10 to 'auto' in 1.4. Set the value of `n_init` explicitly to suppress the warning\n",
      "  super()._check_params_vs_input(X, default_n_init=10)\n",
      "C:\\Users\\Maamar\\AppData\\Local\\Packages\\PythonSoftwareFoundation.Python.3.9_qbz5n2kfra8p0\\LocalCache\\local-packages\\Python39\\site-packages\\sklearn\\cluster\\_kmeans.py:1416: FutureWarning: The default value of `n_init` will change from 10 to 'auto' in 1.4. Set the value of `n_init` explicitly to suppress the warning\n",
      "  super()._check_params_vs_input(X, default_n_init=10)\n",
      "C:\\Users\\Maamar\\AppData\\Local\\Packages\\PythonSoftwareFoundation.Python.3.9_qbz5n2kfra8p0\\LocalCache\\local-packages\\Python39\\site-packages\\sklearn\\cluster\\_kmeans.py:1416: FutureWarning: The default value of `n_init` will change from 10 to 'auto' in 1.4. Set the value of `n_init` explicitly to suppress the warning\n",
      "  super()._check_params_vs_input(X, default_n_init=10)\n"
     ]
    },
    {
     "data": {
      "image/png": "[encoded data removed]",
      "text/plain": [
       "<Figure size 1000x600 with 1 Axes>"
      ]
     },
     "metadata": {},
     "output_type": "display_data"
    }
   ],
   "source": [
    "from sklearn.cluster import KMeans\n",
    "import matplotlib.pyplot as plt\n",
    "\n",
    "# Calculer les inerties pour différentes valeurs de k (nombre de clusters)\n",
    "inertia = []\n",
    "range_clusters = range(1, 15)\n",
    "\n",
    "for k in range_clusters:\n",
    "    kmeans = KMeans(n_clusters=k, random_state=42)\n",
    "    kmeans.fit(X_combined_scaled)  # Utilisez X_combined_scaled au lieu de X_scaled\n",
    "    inertia.append(kmeans.inertia_)\n",
    "\n",
    "# Tracer la courbe de l'inertie\n",
    "plt.figure(figsize=(10, 6))\n",
    "plt.plot(range_clusters, inertia, marker='o', linestyle='--')\n",
    "plt.xlabel('Nombre de clusters')\n",
    "plt.ylabel('Inertie')\n",
    "plt.title('Méthode du coude pour déterminer le nombre optimal de clusters')\n",
    "plt.grid(True)\n",
    "plt.show()\n"
   ]
  },
  {
   "cell_type": "markdown",
   "metadata": {},
   "source": [
    "La méthode du coude consiste à représenter la variance expliquée en fonction du nombre de clusters, et à choisir le \"coude\" de la courbe comme indication du nombre optimal de clusters. Ce \"coude\" est le point où l'ajout de clusters supplémentaires n'apporte pas beaucoup plus d'information (c'est-à-dire que la variance expliquée ne diminue plus aussi rapidement).\n",
    "\n",
    "D'après la courbe ci-dessus, il semble que le point du coude se situe autour de 3 ou 4 clusters. Cela suggère que 3 ou 4 serait un bon choix pour le nombre de clusters à utiliser dans le clustering K-means pour ces données."
   ]
  },
  {
   "cell_type": "code",
   "execution_count": 5,
   "metadata": {},
   "outputs": [
    {
     "name": "stdout",
     "output_type": "stream",
     "text": [
      "         prct_cause_externe  prct_cause_infra  prct_cause_gestion_trafic  \\\n",
      "cluster                                                                    \n",
      "0                 18.478770         15.690652                  19.029795   \n",
      "1                 22.006480         22.621753                  19.289155   \n",
      "2                 26.494753         21.378040                  18.585562   \n",
      "\n",
      "         prct_cause_materiel_roulant  prct_cause_gestion_gare  \\\n",
      "cluster                                                         \n",
      "0                          24.914891                10.299670   \n",
      "1                          19.041665                 6.228597   \n",
      "2                          18.001741                 7.132102   \n",
      "\n",
      "         prct_cause_prise_en_charge_voyageurs  \n",
      "cluster                                        \n",
      "0                                    6.788242  \n",
      "1                                    6.817779  \n",
      "2                                    7.792654  \n"
     ]
    },
    {
     "name": "stderr",
     "output_type": "stream",
     "text": [
      "C:\\Users\\Maamar\\AppData\\Local\\Packages\\PythonSoftwareFoundation.Python.3.9_qbz5n2kfra8p0\\LocalCache\\local-packages\\Python39\\site-packages\\sklearn\\cluster\\_kmeans.py:1416: FutureWarning: The default value of `n_init` will change from 10 to 'auto' in 1.4. Set the value of `n_init` explicitly to suppress the warning\n",
      "  super()._check_params_vs_input(X, default_n_init=10)\n"
     ]
    }
   ],
   "source": [
    "import pandas as pd\n",
    "from sklearn.preprocessing import StandardScaler\n",
    "from sklearn.cluster import KMeans\n",
    "\n",
    "\n",
    "# 4. Clustering\n",
    "kmeans = KMeans(n_clusters=3, random_state=42)\n",
    "clusters = kmeans.fit_predict(X_combined_scaled)\n",
    "\n",
    "# 5. Analyse des clusters\n",
    "data[\"cluster\"] = clusters\n",
    "cause_summary = data.groupby(\"cluster\")[[\"prct_cause_externe\", \"prct_cause_infra\", \"prct_cause_gestion_trafic\", \n",
    "                                          \"prct_cause_materiel_roulant\", \"prct_cause_gestion_gare\", \n",
    "                                          \"prct_cause_prise_en_charge_voyageurs\"]].mean()\n",
    "print(cause_summary)\n"
   ]
  },
  {
   "cell_type": "markdown",
   "metadata": {},
   "source": [
    "<strong>Analyse des clusters:</strong>\n",
    "\n",
    "Nous avons trois clusters (0, 1, et 2).\n",
    "\n",
    "Causes de Retard:\n",
    "\n",
    "Les causes des retards sont réparties en six catégories: externe, infrastructure, gestion du trafic, matériel roulant, gestion en gare, et prise en charge des voyageurs.\n",
    "\n",
    "Interprétation des Clusters:\n",
    "\n",
    "- Cluster 0:\n",
    "Le retard dû au matériel roulant est le plus élevé (~24.91%).\n",
    "Les retards dus aux causes externes (~18.48%) et à la gestion du trafic (~19.03%) sont également notables.\n",
    "Les retards dus à la prise en charge des voyageurs sont les plus faibles (~6.79%).\n",
    "- Cluster 1:\n",
    "Les retards dus aux causes externes (~22.01%) et à l'infrastructure (~22.62%) sont les plus élevés.\n",
    "Les retards dus à la gestion en gare sont les plus faibles (~6.23%).\n",
    "- Cluster 2:\n",
    "Les retards dus aux causes externes (~26.49%) sont les plus élevés.\n",
    "Les retards dus à la gestion en gare (~7.13%) et à la prise en charge des voyageurs (~7.79%) sont relativement faibles, mais légèrement plus élevés que dans les autres clusters.\n",
    "Conclusion:\n",
    "\n",
    "- Les trajets du Cluster 0 semblent être principalement affectés par des problèmes de matériel roulant.\n",
    "- Les trajets du Cluster 1 ont des retards principalement dus à des causes externes et à des problèmes d'infrastructure.\n",
    "- Les trajets du Cluster 2 sont fortement affectés par des causes externes, mais ils présentent également des retards notables dus à l'infrastructure et à la gestion du trafic.\n",
    "\n",
    "En connaissant ces profils, nous pouvons cibler des interventions ou des améliorations spécifiques pour chaque groupe de trajets, en fonction des causes dominantes de retard."
   ]
  },
  {
   "cell_type": "markdown",
   "metadata": {},
   "source": [
    "vérifions d'abord combien d'éléments se trouvent dans chaque cluster."
   ]
  },
  {
   "cell_type": "code",
   "execution_count": 6,
   "metadata": {},
   "outputs": [
    {
     "data": {
      "text/plain": [
       "cluster\n",
       "1    5157\n",
       "2    2601\n",
       "0     396\n",
       "Name: count, dtype: int64"
      ]
     },
     "execution_count": 6,
     "metadata": {},
     "output_type": "execute_result"
    }
   ],
   "source": [
    "# Count the number of elements in each cluster\n",
    "cluster_counts = data[\"cluster\"].value_counts()\n",
    "\n",
    "cluster_counts\n"
   ]
  },
  {
   "cell_type": "markdown",
   "metadata": {},
   "source": [
    "Pour évaluer le modèle de clustering, vous pouvez utiliser plusieurs méthodes. L'une des méthodes couramment utilisées est le coefficient de silhouette, qui mesure la qualité des clusters. Une valeur proche de 1 suggère que les clusters sont bien séparés les uns des autres, tandis qu'une valeur proche de -1 suggère que les clusters se chevauchent."
   ]
  },
  {
   "cell_type": "markdown",
   "metadata": {},
   "source": [
    "Le calcul du coefficient de silhouette nécessite trop de mémoire en raison de la taille du dataset. Une approche pour résoudre ce problème est d'évaluer le coefficient de silhouette sur un sous-ensemble aléatoire des données."
   ]
  },
  {
   "cell_type": "code",
   "execution_count": 10,
   "metadata": {},
   "outputs": [
    {
     "name": "stderr",
     "output_type": "stream",
     "text": [
      "C:\\Users\\Maamar\\AppData\\Local\\Packages\\PythonSoftwareFoundation.Python.3.9_qbz5n2kfra8p0\\LocalCache\\local-packages\\Python39\\site-packages\\sklearn\\utils\\extmath.py:192: RuntimeWarning: invalid value encountered in matmul\n",
      "  ret = a @ b\n"
     ]
    },
    {
     "data": {
      "text/plain": [
       "0.013519183629009807"
      ]
     },
     "execution_count": 10,
     "metadata": {},
     "output_type": "execute_result"
    }
   ],
   "source": [
    "from sklearn.metrics import silhouette_score\n",
    "\n",
    "# Calculate silhouette score for the clustering\n",
    "silhouette_coefficient = silhouette_score(X_combined_scaled, clusters)\n",
    "\n",
    "silhouette_coefficient\n"
   ]
  },
  {
   "cell_type": "code",
   "execution_count": 11,
   "metadata": {},
   "outputs": [
    {
     "data": {
      "image/png": "[encoded data removed]",
      "text/plain": [
       "<Figure size 1500x700 with 1 Axes>"
      ]
     },
     "metadata": {},
     "output_type": "display_data"
    }
   ],
   "source": [
    "from scipy.cluster.hierarchy import linkage, dendrogram\n",
    "from sklearn.cluster import AgglomerativeClustering\n",
    "from sklearn.utils import resample\n",
    "\n",
    "sample_size = 2000  # Define the size of the subset\n",
    "X_sample, clusters_sample = resample(X_combined_scaled, clusters, n_samples=sample_size, random_state=42, stratify=clusters)\n",
    "# Perform hierarchical clustering\n",
    "Z = linkage(X_sample, method='ward')  # Ward method minimizes variance of the distances between clusters\n",
    "\n",
    "# Plot dendrogram\n",
    "plt.figure(figsize=(15, 7))\n",
    "dendrogram(Z, truncate_mode='lastp', p=20)  # Show only the last 20 merged clusters\n",
    "plt.title(\"Dendrogram for Hierarchical Clustering\")\n",
    "plt.xlabel(\"Cluster size\")\n",
    "plt.ylabel(\"Distance\")\n",
    "plt.show()\n"
   ]
  },
  {
   "cell_type": "markdown",
   "metadata": {},
   "source": [
    "Dans l'idéal, les groupes doivent avoir un niveau de similarité relativement élevé et un niveau de distance relativement faible. Cependant, nous devons trouver un équilibre entre cet objectif et le fait de disposer d'un nombre de groupes raisonnable et pratique."
   ]
  },
  {
   "cell_type": "markdown",
   "metadata": {},
   "source": [
    "Dans notre cas, on remarque que le niveau de similarité est très grand au plus bas mais avec 20 clusters, ce n'est pas pratique puisque nos causes sont d'un nombre de 6, ensuite la similarité est réduite jusqu'à 80% environ pour 8 clusters, et on retrouve le nombre de clusters obtenus par K-Means au niveau de 86% environ. "
   ]
  },
  {
   "cell_type": "code",
   "execution_count": 17,
   "metadata": {},
   "outputs": [
    {
     "name": "stderr",
     "output_type": "stream",
     "text": [
      "C:\\Users\\Maamar\\AppData\\Local\\Packages\\PythonSoftwareFoundation.Python.3.9_qbz5n2kfra8p0\\LocalCache\\local-packages\\Python39\\site-packages\\sklearn\\cluster\\_agglomerative.py:1006: FutureWarning: Attribute `affinity` was deprecated in version 1.2 and will be removed in 1.4. Use `metric` instead\n",
      "  warnings.warn(\n"
     ]
    }
   ],
   "source": [
    "agg_clustering = AgglomerativeClustering(n_clusters=k, affinity='euclidean', linkage='ward')\n",
    "clusters_agg = agg_clustering.fit_predict(X_sample)\n"
   ]
  },
  {
   "cell_type": "code",
   "execution_count": 18,
   "metadata": {},
   "outputs": [
    {
     "data": {
      "text/plain": [
       "0.09845692350751695"
      ]
     },
     "execution_count": 18,
     "metadata": {},
     "output_type": "execute_result"
    }
   ],
   "source": [
    "from sklearn.metrics import silhouette_score\n",
    "\n",
    "# Calculate the silhouette score\n",
    "silhouette_coeff_agg = silhouette_score(X_sample, clusters_agg)\n",
    "silhouette_coeff_agg"
   ]
  },
  {
   "cell_type": "markdown",
   "metadata": {},
   "source": [
    "<h3><strong>Conclusion :</strong></h3><p>"
   ]
  },
  {
   "cell_type": "markdown",
   "metadata": {},
   "source": [
    "On conclut que la prédiction des causes de retard est assez difficile à faire, le dataset de l'énoncé et les données récupérées ne permettent toujours pas de faire une bonne prédiction puisque le score est toujours proche de 0 et donc chevauchement entre les données. "
   ]
  }
 ],
 "metadata": {
  "kernelspec": {
   "display_name": "Python 3",
   "language": "python",
   "name": "python3"
  },
  "language_info": {
   "codemirror_mode": {
    "name": "ipython",
    "version": 3
   },
   "file_extension": ".py",
   "mimetype": "text/x-python",
   "name": "python",
   "nbconvert_exporter": "python",
   "pygments_lexer": "ipython3",
   "version": "3.9.13"
  }
 },
 "nbformat": 4,
 "nbformat_minor": 2
}
